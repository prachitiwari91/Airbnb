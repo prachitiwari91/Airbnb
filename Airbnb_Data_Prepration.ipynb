{
 "cells": [
  {
   "cell_type": "markdown",
   "metadata": {
    "application/vnd.databricks.v1+cell": {
     "cellMetadata": {},
     "inputWidgets": {},
     "nuid": "a627be25-9fcd-4b57-84d1-c9f11a155876",
     "showTitle": false,
     "title": ""
    }
   },
   "source": [
    "# Data Prepration for evaluating the New York Market for Short-Term Rental Investments"
   ]
  },
  {
   "cell_type": "markdown",
   "metadata": {
    "application/vnd.databricks.v1+cell": {
     "cellMetadata": {},
     "inputWidgets": {},
     "nuid": "e7b3ea04-837f-44d5-8afd-7f221e55746a",
     "showTitle": false,
     "title": ""
    }
   },
   "source": [
    "## Imports"
   ]
  },
  {
   "cell_type": "code",
   "execution_count": 0,
   "metadata": {
    "application/vnd.databricks.v1+cell": {
     "cellMetadata": {
      "byteLimit": 2048000,
      "rowLimit": 10000
     },
     "inputWidgets": {},
     "nuid": "55dfcb7c-87cd-4cce-89cd-f7993d936990",
     "showTitle": false,
     "title": ""
    }
   },
   "outputs": [],
   "source": [
    "from pyspark.sql import functions as F\n",
    "from pyspark.sql.functions import isnan, when, count, col\n",
    "from pyspark.sql.types import StructType, StructField, DoubleType, StringType, TimestampType"
   ]
  },
  {
   "cell_type": "code",
   "execution_count": 0,
   "metadata": {
    "application/vnd.databricks.v1+cell": {
     "cellMetadata": {},
     "inputWidgets": {},
     "nuid": "e4690cd8-03c0-465a-92a3-ad693823cff6",
     "showTitle": false,
     "title": ""
    }
   },
   "outputs": [],
   "source": [
    "PATH = 'sample-s3-location' \n",
    "DB = 'sample_db'"
   ]
  },
  {
   "cell_type": "code",
   "execution_count": 0,
   "metadata": {
    "application/vnd.databricks.v1+cell": {
     "cellMetadata": {},
     "inputWidgets": {},
     "nuid": "37de0d99-0b02-4cb4-a7fc-052453ca31cd",
     "showTitle": false,
     "title": ""
    }
   },
   "outputs": [],
   "source": [
    "%sql\n",
    "CREATE WIDGET TEXT database DEFAULT \"hive_metastore.sample_db\""
   ]
  },
  {
   "cell_type": "markdown",
   "metadata": {
    "application/vnd.databricks.v1+cell": {
     "cellMetadata": {},
     "inputWidgets": {},
     "nuid": "eacbf192-dd45-47ce-aeaf-68e870576494",
     "showTitle": false,
     "title": ""
    }
   },
   "source": [
    "#Airbnb Data"
   ]
  },
  {
   "cell_type": "code",
   "execution_count": 0,
   "metadata": {
    "application/vnd.databricks.v1+cell": {
     "cellMetadata": {
      "byteLimit": 2048000,
      "rowLimit": 10000
     },
     "inputWidgets": {},
     "nuid": "83bf30c3-0c63-432d-887f-7ff6cdd635fd",
     "showTitle": false,
     "title": ""
    }
   },
   "outputs": [
    {
     "output_type": "stream",
     "name": "stdout",
     "output_type": "stream",
     "text": [
      "root\n |-- id: integer (nullable = true)\n |-- name: string (nullable = true)\n |-- host_id: integer (nullable = true)\n |-- host_name: string (nullable = true)\n |-- neighbourhood_group: string (nullable = true)\n |-- neighbourhood: string (nullable = true)\n |-- latitude: double (nullable = true)\n |-- longitude: double (nullable = true)\n |-- room_type: string (nullable = true)\n |-- price: integer (nullable = true)\n |-- minimum_nights: integer (nullable = true)\n |-- number_of_reviews: integer (nullable = true)\n |-- last_review: date (nullable = true)\n |-- reviews_per_month: double (nullable = true)\n |-- calculated_host_listings_count: integer (nullable = true)\n |-- availability_365: integer (nullable = true)\n\ncolumns with null values\n"
     ]
    },
    {
     "output_type": "display_data",
     "data": {
      "text/html": [
       "<style scoped>\n",
       "  .table-result-container {\n",
       "    max-height: 300px;\n",
       "    overflow: auto;\n",
       "  }\n",
       "  table, th, td {\n",
       "    border: 1px solid black;\n",
       "    border-collapse: collapse;\n",
       "  }\n",
       "  th, td {\n",
       "    padding: 5px;\n",
       "  }\n",
       "  th {\n",
       "    text-align: left;\n",
       "  }\n",
       "</style><div class='table-result-container'><table class='table-result'><thead style='background-color: white'><tr><th>id</th><th>name</th><th>host_id</th><th>host_name</th><th>neighbourhood_group</th><th>neighbourhood</th><th>latitude</th><th>longitude</th><th>room_type</th><th>price</th><th>minimum_nights</th><th>number_of_reviews</th><th>last_review</th><th>reviews_per_month</th><th>calculated_host_listings_count</th><th>availability_365</th></tr></thead><tbody><tr><td>0</td><td>16</td><td>0</td><td>21</td><td>0</td><td>0</td><td>0</td><td>0</td><td>0</td><td>0</td><td>0</td><td>0</td><td>10052</td><td>10052</td><td>0</td><td>0</td></tr></tbody></table></div>"
      ]
     },
     "metadata": {
      "application/vnd.databricks.v1+output": {
       "addedWidgets": {},
       "aggData": [],
       "aggError": "",
       "aggOverflow": false,
       "aggSchema": [],
       "aggSeriesLimitReached": false,
       "aggType": "",
       "arguments": {},
       "columnCustomDisplayInfos": {},
       "data": [
        [
         0,
         16,
         0,
         21,
         0,
         0,
         0,
         0,
         0,
         0,
         0,
         0,
         10052,
         10052,
         0,
         0
        ]
       ],
       "datasetInfos": [],
       "dbfsResultPath": null,
       "isJsonSchema": true,
       "metadata": {},
       "overflow": false,
       "plotOptions": {
        "customPlotOptions": {},
        "displayType": "table",
        "pivotAggregation": null,
        "pivotColumns": null,
        "xColumns": null,
        "yColumns": null
       },
       "removedWidgets": [],
       "schema": [
        {
         "metadata": "{}",
         "name": "id",
         "type": "\"long\""
        },
        {
         "metadata": "{}",
         "name": "name",
         "type": "\"long\""
        },
        {
         "metadata": "{}",
         "name": "host_id",
         "type": "\"long\""
        },
        {
         "metadata": "{}",
         "name": "host_name",
         "type": "\"long\""
        },
        {
         "metadata": "{}",
         "name": "neighbourhood_group",
         "type": "\"long\""
        },
        {
         "metadata": "{}",
         "name": "neighbourhood",
         "type": "\"long\""
        },
        {
         "metadata": "{}",
         "name": "latitude",
         "type": "\"long\""
        },
        {
         "metadata": "{}",
         "name": "longitude",
         "type": "\"long\""
        },
        {
         "metadata": "{}",
         "name": "room_type",
         "type": "\"long\""
        },
        {
         "metadata": "{}",
         "name": "price",
         "type": "\"long\""
        },
        {
         "metadata": "{}",
         "name": "minimum_nights",
         "type": "\"long\""
        },
        {
         "metadata": "{}",
         "name": "number_of_reviews",
         "type": "\"long\""
        },
        {
         "metadata": "{}",
         "name": "last_review",
         "type": "\"long\""
        },
        {
         "metadata": "{}",
         "name": "reviews_per_month",
         "type": "\"long\""
        },
        {
         "metadata": "{}",
         "name": "calculated_host_listings_count",
         "type": "\"long\""
        },
        {
         "metadata": "{}",
         "name": "availability_365",
         "type": "\"long\""
        }
       ],
       "type": "table"
      }
     },
     "output_type": "display_data"
    },
    {
     "output_type": "stream",
     "name": "stdout",
     "output_type": "stream",
     "text": [
      "duplicate records in columns\n"
     ]
    },
    {
     "output_type": "display_data",
     "data": {
      "text/html": [
       "<style scoped>\n",
       "  .table-result-container {\n",
       "    max-height: 300px;\n",
       "    overflow: auto;\n",
       "  }\n",
       "  table, th, td {\n",
       "    border: 1px solid black;\n",
       "    border-collapse: collapse;\n",
       "  }\n",
       "  th, td {\n",
       "    padding: 5px;\n",
       "  }\n",
       "  th {\n",
       "    text-align: left;\n",
       "  }\n",
       "</style><div class='table-result-container'><table class='table-result'><thead style='background-color: white'><tr><th>id</th><th>name</th><th>host_id</th><th>host_name</th><th>neighbourhood_group</th><th>neighbourhood</th><th>latitude</th><th>longitude</th><th>room_type</th><th>price</th><th>minimum_nights</th><th>number_of_reviews</th><th>last_review</th><th>reviews_per_month</th><th>calculated_host_listings_count</th><th>availability_365</th><th>count</th></tr></thead><tbody></tbody></table></div>"
      ]
     },
     "metadata": {
      "application/vnd.databricks.v1+output": {
       "addedWidgets": {},
       "aggData": [],
       "aggError": "",
       "aggOverflow": false,
       "aggSchema": [],
       "aggSeriesLimitReached": false,
       "aggType": "",
       "arguments": {},
       "columnCustomDisplayInfos": {},
       "data": [],
       "datasetInfos": [],
       "dbfsResultPath": null,
       "isJsonSchema": true,
       "metadata": {},
       "overflow": false,
       "plotOptions": {
        "customPlotOptions": {},
        "displayType": "table",
        "pivotAggregation": null,
        "pivotColumns": null,
        "xColumns": null,
        "yColumns": null
       },
       "removedWidgets": [],
       "schema": [
        {
         "metadata": "{}",
         "name": "id",
         "type": "\"integer\""
        },
        {
         "metadata": "{}",
         "name": "name",
         "type": "\"string\""
        },
        {
         "metadata": "{}",
         "name": "host_id",
         "type": "\"integer\""
        },
        {
         "metadata": "{}",
         "name": "host_name",
         "type": "\"string\""
        },
        {
         "metadata": "{}",
         "name": "neighbourhood_group",
         "type": "\"string\""
        },
        {
         "metadata": "{}",
         "name": "neighbourhood",
         "type": "\"string\""
        },
        {
         "metadata": "{}",
         "name": "latitude",
         "type": "\"double\""
        },
        {
         "metadata": "{}",
         "name": "longitude",
         "type": "\"double\""
        },
        {
         "metadata": "{}",
         "name": "room_type",
         "type": "\"string\""
        },
        {
         "metadata": "{}",
         "name": "price",
         "type": "\"integer\""
        },
        {
         "metadata": "{}",
         "name": "minimum_nights",
         "type": "\"integer\""
        },
        {
         "metadata": "{}",
         "name": "number_of_reviews",
         "type": "\"integer\""
        },
        {
         "metadata": "{\"__detected_date_formats\":\"yyyy-M-d\"}",
         "name": "last_review",
         "type": "\"date\""
        },
        {
         "metadata": "{}",
         "name": "reviews_per_month",
         "type": "\"double\""
        },
        {
         "metadata": "{}",
         "name": "calculated_host_listings_count",
         "type": "\"integer\""
        },
        {
         "metadata": "{}",
         "name": "availability_365",
         "type": "\"integer\""
        },
        {
         "metadata": "{}",
         "name": "count",
         "type": "\"long\""
        }
       ],
       "type": "table"
      }
     },
     "output_type": "display_data"
    }
   ],
   "source": [
    "airbnb_df = spark.read.format(\"csv\") \\\n",
    "    .option(\"header\", \"true\") \\\n",
    "    .option(\"inferSchema\", \"true\") \\\n",
    "    .option(\"multiLine\", \"true\") \\\n",
    "    .option(\"escape\", \"\\\"\") \\\n",
    "    .load(\"s3://{PATH}/tmp/Airbnb_data_New_York.csv\")\n",
    "\n",
    "#check schema\n",
    "airbnb_df.printSchema()\n",
    "#view sample data\n",
    "airbnb_df.limit(5),display()\n",
    "#chcek null values\n",
    "print(\"columns with null values\")\n",
    "airbnb_df.select([count(when(col(c).isNull(), c)).alias(c) for c in airbnb_df.columns]).display()\n",
    "#check duplicates\n",
    "print(\"duplicate records in columns\" )\n",
    "duplicates_all_columns = airbnb_df.groupBy(airbnb_df.columns).count()\n",
    "\n",
    "# Filter out rows that have a count greater than 1 (duplicates)\n",
    "duplicates_all_columns = duplicates_all_columns.filter(\"count > 1\")\n",
    "duplicates_all_columns.display()\n",
    "\n",
    "#fill null columns with appropriate values\n",
    "airbnb_df = airbnb_df.fillna({'reviews_per_month': 0})\n",
    "airbnb_df = airbnb_df.fillna({'last_review': '1900-01-01'})\n",
    "airbnb_df= airbnb_df.drop('id','name','host_id','host_name')\n",
    "airbnb_df = airbnb_df.withColumn('lifetime_revenue', F.lit(F.col('number_of_reviews')*F.col('price')*F.col('minimum_nights'))\n",
    "\n",
    ")\n",
    "#write cleaned data to deltatable\n",
    "airbnb_df.write.format(\"delta\").mode(\"overwrite\").saveAsTable(f\"{DB}.ny_airbnb\")"
   ]
  },
  {
   "cell_type": "markdown",
   "metadata": {
    "application/vnd.databricks.v1+cell": {
     "cellMetadata": {},
     "inputWidgets": {},
     "nuid": "c9fd8289-365a-4975-8785-6a26830c07a6",
     "showTitle": false,
     "title": ""
    }
   },
   "source": [
    "#Property Sales Data"
   ]
  },
  {
   "cell_type": "code",
   "execution_count": 0,
   "metadata": {
    "application/vnd.databricks.v1+cell": {
     "cellMetadata": {
      "byteLimit": 2048000,
      "rowLimit": 10000
     },
     "inputWidgets": {},
     "nuid": "00da5b91-74f5-4a12-8db9-d5e117db6398",
     "showTitle": false,
     "title": ""
    }
   },
   "outputs": [],
   "source": [
    "df = spark.read.format(\"csv\") \\\n",
    "    .option(\"header\", \"true\") \\\n",
    "    .option(\"inferSchema\", \"true\") \\\n",
    "    .option(\"multiLine\", \"true\") \\\n",
    "    .option(\"escape\", \"\\\"\") \\\n",
    "    .load(\"s3://{PATH}/tmp/Property_sales_data_New_York.csv\")\n",
    "\n",
    "#Mapping of BOROUGH to BOROUGH_NAME\n",
    "df = df.withColumn(\n",
    "    \"BOROUGH_NAME\",\n",
    "    F.when(F.col(\"BOROUGH\") == 1, \"Manhattan\")\n",
    "    .when(F.col(\"BOROUGH\") == 2, \"Bronx\")\n",
    "    .when(F.col(\"BOROUGH\") == 3, \"Brooklyn\")\n",
    "    .when(F.col(\"BOROUGH\") == 4, \"Queens\")\n",
    "    .when(F.col(\"BOROUGH\") == 5, \"Staten Island\")\n",
    "    .otherwise(\"Unknown\")\n",
    ")\n",
    "\n",
    "\n",
    "\n",
    "#check schema\n",
    "df.printSchema()\n",
    "#view sample data\n",
    "df.limit(5).display()\n",
    "#column required and renaming column\n",
    "df = df.select(F.col('BOROUGH_NAME'),\n",
    "          F.col('NEIGHBORHOOD'),\n",
    "          F.col('RESIDENTIAL UNITS').alias('RESIDENTIAL_UNITS'),\n",
    "          F.col('SALE PRICE').alias('SALE_PRICE'),\n",
    "          F.col('SALE DATE').alias('SALE_DATE'))\n",
    "\n",
    "#chcek null values\n",
    "print(\"columns with null values\")\n",
    "df.select([count(when(col(c).isNull(), c)).alias(c) for c in df.columns]).display()\n",
    "\n",
    "#check duplicates\n",
    "print(\"duplicate records\" )\n",
    "duplicates_all_columns = df.groupBy(df.columns).count()\n",
    "#duplicate rows\n",
    "duplicates_all_columns = duplicates_all_columns.filter(\"count > 1\")\n",
    "duplicates_all_columns.limit(5).display()\n",
    "\n",
    "before_drop = df.count()\n",
    "print(f\"Number of rows before dropping duplicates: {before_drop}\")\n",
    "\n",
    "# Perform drop duplicates\n",
    "df = df.dropDuplicates()\n",
    "\n",
    "after_drop = df.count()\n",
    "print(f\"Number of rows after dropping duplicates: {after_drop}\")\n",
    "\n",
    "#convert sale_price to double\n",
    "df = df.withColumn(\n",
    "    \"SALE_PRICE\",\n",
    "    F.regexp_replace(F.col(\"SALE_PRICE\"), \"[^0-9.]\", \"\").cast(DoubleType())\n",
    ").withColumn(\"SALE_DATE\", F.col(\"SALE_DATE\").cast('date'))\n",
    "\n",
    "cleaned_df =df.fillna({'SALE_PRICE': 0})\n",
    "\n",
    "cleaned_df.write.format(\"delta\").mode(\"overwrite\").saveAsTable(f\"{DB}.ny_property_sales\")\n",
    "\n"
   ]
  },
  {
   "cell_type": "markdown",
   "metadata": {
    "application/vnd.databricks.v1+cell": {
     "cellMetadata": {},
     "inputWidgets": {},
     "nuid": "47971411-461c-444c-8ff6-61ed1f7afb9f",
     "showTitle": false,
     "title": ""
    }
   },
   "source": [
    "#Weather Data"
   ]
  },
  {
   "cell_type": "code",
   "execution_count": 0,
   "metadata": {
    "application/vnd.databricks.v1+cell": {
     "cellMetadata": {
      "byteLimit": 2048000,
      "rowLimit": 10000
     },
     "inputWidgets": {},
     "nuid": "6730542f-a046-4bce-bf87-66baf30135c2",
     "showTitle": false,
     "title": ""
    }
   },
   "outputs": [],
   "source": [
    "#Weather data first 9 rows contains the static information of location,latitude,temp_unit\n",
    "# Actual data start from 10th row\n",
    "# Define schema of the column present in 10th row\n",
    "# Add static columns as additional columns\n",
    "\n",
    "schema = StructType([\n",
    "    StructField(\"date\", TimestampType(), True),\n",
    "    StructField(\"temp_max\", DoubleType(), True),\n",
    "    StructField(\"temp_min\", DoubleType(), True),\n",
    "    StructField(\"temp_avg\", DoubleType(), True)\n",
    "])\n",
    "\n",
    "df = (spark.read.format(\"com.crealytics.spark.excel\").option(\"header\", \"true\")\n",
    "    .option(\"inferSchema\", \"true\")\n",
    "    .option(\"dataAddress\", \"'0 daily'!A10\") \n",
    "    .schema(schema)\n",
    "    .load(\"s3://{PATH}/tmp/Weather Data.xlsx\"))\n",
    "\n",
    "full_df = (df.withColumn(\"location\", F.lit('New York'))\n",
    "            .withColumn(\"latitude\", F.lit(40.666534))\n",
    "            .withColumn(\"longitude\", F.lit(-74.0625))\n",
    "            .withColumn(\"altitude\", F.lit(44.787575))\n",
    "            .withColumn(\"temp_unit\", F.lit('°C'))\n",
    ")\n",
    "\n",
    "full_df.write.format(\"delta\").mode(\"overwrite\").saveAsTable(f\"{DB}.daily_temperature\")\n"
   ]
  }
 ],
 "metadata": {
  "application/vnd.databricks.v1+notebook": {
   "dashboards": [
    {
     "elements": [],
     "globalVars": {},
     "guid": "",
     "layoutOption": {
      "grid": true,
      "stack": true
     },
     "nuid": "59fcf87e-5d50-4204-85dd-3b25f59e9aec",
     "origId": 3350116488048547,
     "title": "Untitled",
     "version": "DashboardViewV1",
     "width": 1024
    },
    {
     "elements": [],
     "globalVars": {},
     "guid": "",
     "layoutOption": {
      "grid": true,
      "stack": true
     },
     "nuid": "ff5b5127-a09e-4844-a1e2-c06797a478ec",
     "origId": 3350116488048548,
     "title": "Untitled",
     "version": "DashboardViewV1",
     "width": 1024
    }
   ],
   "environmentMetadata": null,
   "language": "python",
   "notebookMetadata": {
    "mostRecentlyExecutedCommandWithImplicitDF": {
     "commandId": 2744159269061179,
     "dataframes": [
      "_sqldf"
     ]
    },
    "pythonIndentUnit": 2
   },
   "notebookName": "Airbnb_Data_Prepration",
   "widgets": {}
  }
 },
 "nbformat": 4,
 "nbformat_minor": 0
}
